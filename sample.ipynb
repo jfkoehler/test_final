{
  "cells": [
    {
      "cell_type": "code",
      "execution_count": null,
      "id": "6f9bf780-d99d-40b3-a239-4dd754730917",
      "metadata": {
        "id": "6f9bf780-d99d-40b3-a239-4dd754730917"
      },
      "outputs": [],
      "source": [
        "a = 5"
      ]
    },
    {
      "cell_type": "code",
      "execution_count": 1,
      "id": "622f79f1-16c5-4636-93f3-be9701331f5d",
      "metadata": {
        "id": "622f79f1-16c5-4636-93f3-be9701331f5d"
      },
      "outputs": [],
      "source": [
        "b = 10"
      ]
    },
    {
      "cell_type": "code",
      "source": [],
      "metadata": {
        "id": "aHcL0P828wlx"
      },
      "id": "aHcL0P828wlx",
      "execution_count": null,
      "outputs": []
    }
  ],
  "metadata": {
    "kernelspec": {
      "display_name": "Python 3 (ipykernel)",
      "language": "python",
      "name": "python3"
    },
    "language_info": {
      "codemirror_mode": {
        "name": "ipython",
        "version": 3
      },
      "file_extension": ".py",
      "mimetype": "text/x-python",
      "name": "python",
      "nbconvert_exporter": "python",
      "pygments_lexer": "ipython3",
      "version": "3.11.4"
    },
    "colab": {
      "provenance": []
    }
  },
  "nbformat": 4,
  "nbformat_minor": 5
}